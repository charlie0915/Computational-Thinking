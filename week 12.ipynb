{
  "nbformat": 4,
  "nbformat_minor": 0,
  "metadata": {
    "colab": {
      "name": "Untitled3.ipynb",
      "provenance": [],
      "authorship_tag": "ABX9TyMuyTqtlWH6w6oUFDj7uGuc",
      "include_colab_link": true
    },
    "kernelspec": {
      "name": "python3",
      "display_name": "Python 3"
    }
  },
  "cells": [
    {
      "cell_type": "markdown",
      "metadata": {
        "id": "view-in-github",
        "colab_type": "text"
      },
      "source": [
        "<a href=\"https://colab.research.google.com/github/charlie0915/Computational-Thinking/blob/master/week%2012.ipynb\" target=\"_parent\"><img src=\"https://colab.research.google.com/assets/colab-badge.svg\" alt=\"Open In Colab\"/></a>"
      ]
    },
    {
      "cell_type": "code",
      "metadata": {
        "id": "i6udc3695FIS"
      },
      "source": [
        "season = \"1995-1996\"\n",
        "team = \"Chicago Bulls\"\n",
        "coach = \"Phil Jackson\"\n",
        "records = [72, 10]\n",
        "starting_lineup = [\"Ron Harper\", \"Michael Jordan\", \"Scottie\n",
        "Pippen\", \"Dennis Rodman\", \"Luc Longley\"]\n",
        "won_championship = True\n",
        "best_chicago_bulls = list((season, team, coach, records,\n",
        "starting_lineup, won_championship))\n",
        "print(best_chicago_bulls)\n",
        "print(type(best_chicago_bulls))\n",
        "a = range(5) # [0,1,2,3,4]\n",
        "print(a)\n",
        "print(a[0], a[1], a[2], a[3], a[4])\n",
        "b = range(2, 6) # [2,3,4,5]\n",
        "print(b[0], b[1], b[2], b[3])\n",
        "c = range(2, 10, 3) # [2,5,8]\n",
        "print(c[0], c[1], c[2])\n",
        "d = range(10, 3, -2) # [10,8,6,4]\n",
        "print(d[0], d[1], d[2])\n",
        "hello_wld = 'Hello world!'\n",
        "hello_py = \"Hello Python!\"\n",
        "print(hello_wld)\n",
        "print(hello_py)\n",
        "print(type(hello_wld))\n",
        "print(type(hello_py))"
      ],
      "execution_count": null,
      "outputs": []
    }
  ]
}